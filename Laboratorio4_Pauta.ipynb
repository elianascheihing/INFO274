{
 "cells": [
  {
   "cell_type": "markdown",
   "metadata": {},
   "source": [
    "# SIMULACIÓN | LABORATORIO 4 - PAUTA\n"
   ]
  },
  {
   "cell_type": "markdown",
   "metadata": {},
   "source": [
    "## Generación de número pseudo-aleatorios"
   ]
  },
  {
   "cell_type": "code",
   "execution_count": 18,
   "metadata": {},
   "outputs": [],
   "source": [
    "import numpy as np\n",
    "import matplotlib.pyplot as plt\n",
    "import pandas as pd\n",
    "import seaborn as sns\n",
    "import scipy \n",
    "from IPython.display import display\n",
    "import ipywidgets as widgets\n",
    "import random"
   ]
  },
  {
   "cell_type": "markdown",
   "metadata": {},
   "source": [
    "### El módulo Random de python \n"
   ]
  },
  {
   "cell_type": "markdown",
   "metadata": {},
   "source": [
    "**Ejercicio 1:**\n",
    "- Defina lo que es una semilla y para qué sirve\n",
    "- use random.random() para generar números aleatorios. \n",
    "- use una semilla con random.seed(semilla), y vuelva a ejecutar random.random()\n",
    "- ¿qué ocurre si vuelve a definir la misma semilla y ejecutar random.random()?\n",
    "\n"
   ]
  },
  {
   "cell_type": "markdown",
   "metadata": {},
   "source": [
    "**Respuesta** \n",
    "\n",
    "Una semilla es el valor inicial con el cual comienza el algoritmo iterativo de generación de números aleatorios. Permite controlar que las secuencias generadas sean las mismas cada vez, si se usa la misma semilla, o diferentes, si se va cambiando su valor de un llamado a otro del generador de números aleatorios.\n",
    "Como se ve en la ejecución mas abajo, al predefinir el valor de la semilla se repite la secuencia de valores pseudo-aleatorios definidos.\n"
   ]
  },
  {
   "cell_type": "code",
   "execution_count": 11,
   "metadata": {},
   "outputs": [
    {
     "data": {
      "text/plain": [
       "(array([11.,  9.,  6., 12.,  7., 12.,  6., 14.,  8., 15.]),\n",
       " array([0.01988392, 0.11783603, 0.21578814, 0.31374024, 0.41169235,\n",
       "        0.50964446, 0.60759657, 0.70554867, 0.80350078, 0.90145289,\n",
       "        0.999405  ]),\n",
       " <BarContainer object of 10 artists>)"
      ]
     },
     "execution_count": 11,
     "metadata": {},
     "output_type": "execute_result"
    },
    {
     "data": {
      "image/png": "[encoded data removed]",
      "text/plain": [
       "<Figure size 800x800 with 4 Axes>"
      ]
     },
     "metadata": {
      "needs_background": "light"
     },
     "output_type": "display_data"
    }
   ],
   "source": [
    "\n",
    "fig, axs = plt.subplots(2, 2,figsize=(10, 10), dpi=80)\n",
    "##sin semilla predefinida\n",
    "sec = []\n",
    "for i in range(100):\n",
    "    sec.append(random.random())\n",
    "axs[0,0].hist(sec)\n",
    "sec = []\n",
    "for i in range(100):\n",
    "    sec.append(random.random())\n",
    "axs[0,1].hist(sec)\n",
    "\n",
    "##con semilla predefinida\n",
    "random.seed(0.5)\n",
    "sec = []\n",
    "for i in range(100):\n",
    "    sec.append(random.random())\n",
    "axs[1,0].hist(sec)\n",
    "\n",
    "random.seed(0.5)\n",
    "sec = []\n",
    "for i in range(100):\n",
    "    sec.append(random.random())\n",
    "axs[1,1].hist(sec)\n"
   ]
  },
  {
   "cell_type": "markdown",
   "metadata": {},
   "source": [
    "**Ejercicio 2:**\n",
    "Pruebe las funciones y defina sus diferencias:\n",
    "\n",
    "    - random.randint(a, b)\n",
    "    - random.randrange(a, b)\n",
    "    - random.uniform(a, b)\n",
    "    "
   ]
  },
  {
   "cell_type": "markdown",
   "metadata": {},
   "source": [
    "**Respuesta**\n",
    "De acuerdo a las pruebas aqui disponibles y la documentación de Python, las dos primera funciones entregan valores enteros, en el rango definido. La única distinción es que randint, incluye el último item (b) entre los posibles valores en cambio randrange no. La funcion uniform devuelve valores reales en el abierto (a,b)."
   ]
  },
  {
   "cell_type": "code",
   "execution_count": 17,
   "metadata": {},
   "outputs": [
    {
     "name": "stdout",
     "output_type": "stream",
     "text": [
      "[-9, -8, -8, 1, -5, -1, -2, 9, -4, 9, -9, 8, -5, 3, 10, 2, 6, 1, 7, 4, 6, -2, -9, -10, 1, 4, 0, 2, 3, 6, -5, 7, -5, -3, -3, -10, -5, 0, -5, -6, 6, 6, 1, 6, 7, -5, 4, 3, 6, 1, 8, 1, 1, 4, -5, 2, 4, 10, 6, -3, 5, -2, 5, 6, 6, 1, 4, 4, 1, 8, 7, 4, 5, -3, 0, -5, 9, -2, 5, -1, -1, 6, 7, 6, 6, 10, 9, 8, 3, -1, -4, 5, 6, 1, 9, -8, 0, -10, -4, -7]\n",
      "[-9, -8, -8, 1, -5, -1, -2, 9, -4, 9, -9, 8, -5, 3, 2, 6, 1, 7, 4, 6, -2, -9, -10, 1, 4, 0, 2, 3, 6, -5, 7, -5, -3, -3, -10, -5, 0, -5, -6, 6, 6, 1, 6, 7, -5, 4, 3, 6, 1, 8, 1, 1, 4, -5, 2, 4, 6, -3, 5, -2, 5, 6, 6, 1, 4, 4, 1, 8, 7, 4, 5, -3, 0, -5, 9, -2, 5, -1, -1, 6, 7, 6, 6, 9, 8, 3, -1, -4, 5, 6, 1, 9, -8, 0, -10, -4, -7, -9, 8, -9]\n",
      "[9.120685437784989, 8.956549741186986, -8.868972645463826, -8.302560096821567, 6.709977562588993, 4.719399781370466, 3.3946080288044183, -3.8372708482171163, 2.118883313569249, 2.1360346728167574, 1.6240803422400614, -6.8323425949038885, -1.3866071941746263, -2.1293635958925723, 4.460241624749317, 9.896391258994854, 8.98790946186487, 0.8835409485864165, -1.1029162254829288, -4.635185167013438]\n"
     ]
    },
    {
     "data": {
      "text/plain": [
       "(array([2., 1., 2., 2., 1., 4., 1., 2., 1., 4.]),\n",
       " array([-8.86897265, -6.99243626, -5.11589986, -3.23936347, -1.36282708,\n",
       "         0.51370931,  2.3902457 ,  4.26678209,  6.14331848,  8.01985487,\n",
       "         9.89639126]),\n",
       " <BarContainer object of 10 artists>)"
      ]
     },
     "execution_count": 17,
     "metadata": {},
     "output_type": "execute_result"
    },
    {
     "data": {
      "image/png": "[encoded data removed]",
      "text/plain": [
       "<Figure size 1200x400 with 3 Axes>"
      ]
     },
     "metadata": {
      "needs_background": "light"
     },
     "output_type": "display_data"
    }
   ],
   "source": [
    "fig, axs = plt.subplots(1, 3,figsize=(15, 5), dpi=80)\n",
    "\n",
    "sec = []\n",
    "random.seed(2)\n",
    "for i in range(100):\n",
    "    sec.append(random.randint(-10,10))\n",
    "print(sec)\n",
    "\n",
    "axs[0].hist(sec)\n",
    "\n",
    "sec = []\n",
    "random.seed(2)\n",
    "for i in range(100):\n",
    "    sec.append(random.randrange(-10,10))\n",
    "print(sec)\n",
    "axs[1].hist(sec)\n",
    "\n",
    "\n",
    "random.seed(2)\n",
    "sec = []\n",
    "for i in range(20):\n",
    "    sec.append(random.uniform(-10,10))\n",
    "print(sec)\n",
    "axs[2].hist(sec)\n"
   ]
  },
  {
   "cell_type": "markdown",
   "metadata": {},
   "source": [
    "### Clase NotSoRandom:"
   ]
  },
  {
   "cell_type": "code",
   "execution_count": 19,
   "metadata": {},
   "outputs": [],
   "source": [
    "class NotSoRandom(object):\n",
    "    def seed(self, a=3):\n",
    "        \"\"\"Seed the world's most mysterious random number generator.\"\"\"\n",
    "        self.seedval = a\n",
    "    def random(self):\n",
    "        \"\"\"Look, random numbers!\"\"\"\n",
    "        self.seedval = (self.seedval * 3) % 19\n",
    "        return self.seedval\n",
    "\n",
    "_inst = NotSoRandom()\n",
    "seed = _inst.seed\n",
    "random = _inst.random\n"
   ]
  },
  {
   "cell_type": "markdown",
   "metadata": {},
   "source": [
    "**Ejercicio 3:**\n",
    "- use la semilla 1234 y genere números aleatorios hasta que se cumpla un ciclo completo. ¿Cuál resultó ser el periodo?\n",
    "- Intente con otra semilla y busque completar un ciclo. "
   ]
  },
  {
   "cell_type": "code",
   "execution_count": 22,
   "metadata": {},
   "outputs": [
    {
     "name": "stdout",
     "output_type": "stream",
     "text": [
      "[16, 10, 11, 14, 4, 12, 17, 13, 1, 3, 9, 8, 5, 15, 7, 2, 6, 18, 16]\n"
     ]
    }
   ],
   "source": [
    "seed(1234)\n",
    "sec = []\n",
    "[sec.append(random()) for _ in range(19)]\n",
    "print(sec)"
   ]
  },
  {
   "cell_type": "code",
   "execution_count": 24,
   "metadata": {},
   "outputs": [
    {
     "name": "stdout",
     "output_type": "stream",
     "text": [
      "[3, 9, 8, 5, 15, 7, 2, 6, 18, 16, 10, 11, 14, 4, 12, 17, 13, 1, 3]\n"
     ]
    }
   ],
   "source": [
    "seed(1)\n",
    "sec = []\n",
    "[sec.append(random()) for _ in range(19)]\n",
    "print(sec)"
   ]
  },
  {
   "cell_type": "markdown",
   "metadata": {},
   "source": [
    "**Respuesta**\n",
    "\n",
    "El periodo del generador es 18 y no depende de la semilla si no que del valor utilizado como módulo m, es decir m-1"
   ]
  },
  {
   "cell_type": "markdown",
   "metadata": {},
   "source": [
    "#### **Ejercicio 4:**\n",
    "En este ejercicio vamos a comparar el generador de la biblioteca Random de Python con el generador de números pseudo-aleatorios congruencial lineal descrito en la sesión téórica. Para ello se pide lo siguiente:\n",
    "1. Programe el generador de números pseudo-aleatorios congruencial lineal \n",
    "2. Extraiga secuencias del generador programado y del predefinido en Python, grafique en histogramas, compare y concluya.\n"
   ]
  },
  {
   "cell_type": "code",
   "execution_count": 31,
   "metadata": {},
   "outputs": [],
   "source": [
    "class RandomCL(object):\n",
    "    def seed(self, a=3):\n",
    "        self.seedval = a\n",
    "    def random(self):\n",
    "        self.seedval = (self.seedval * 1687) % 2147483647\n",
    "        return self.seedval\n",
    "\n",
    "_inst =RandomCL()\n",
    "seedCL = _inst.seed\n",
    "randomCL = _inst.random\n"
   ]
  },
  {
   "cell_type": "code",
   "execution_count": 35,
   "metadata": {},
   "outputs": [
    {
     "data": {
      "text/plain": [
       "(array([ 9836.,  9984.,  9999., 10002.,  9998.,  9977., 10036., 10120.,\n",
       "         9974., 10074.]),\n",
       " array([1.10222908e-05, 1.00009667e-01, 2.00008312e-01, 3.00006957e-01,\n",
       "        4.00005602e-01, 5.00004246e-01, 6.00002891e-01, 7.00001536e-01,\n",
       "        8.00000181e-01, 8.99998826e-01, 9.99997470e-01]),\n",
       " <BarContainer object of 10 artists>)"
      ]
     },
     "execution_count": 35,
     "metadata": {},
     "output_type": "execute_result"
    },
    {
     "data": {
      "image/png": "[encoded data removed]",
      "text/plain": [
       "<Figure size 800x400 with 2 Axes>"
      ]
     },
     "metadata": {
      "needs_background": "light"
     },
     "output_type": "display_data"
    }
   ],
   "source": [
    "fig, axs = plt.subplots(1, 2,figsize=(10, 5), dpi=80)\n",
    "\n",
    "seedCL(1)\n",
    "M= 2147483647\n",
    "sec = []\n",
    "for i in range(100000):\n",
    "    sec.append(randomCL()/M)\n",
    "\n",
    "axs[0].hist(sec)\n",
    "\n",
    "sec = []\n",
    "for i in range(100000):\n",
    "    sec.append(random.uniform(0,1))\n",
    "\n",
    "axs[1].hist(sec)\n",
    "\n",
    "\n"
   ]
  },
  {
   "cell_type": "markdown",
   "metadata": {},
   "source": [
    "**Respuesta:**\n",
    "\n",
    "Al comparar las secuencias de números pseudo-aleatorios de los dos métodos se observa que ambos convergen de manera similar al comportamiento de la U[0,1] al aumentar el número de datos generados."
   ]
  },
  {
   "cell_type": "markdown",
   "metadata": {},
   "source": [
    "#### **Ejercicio 5:**\n",
    "Escoja una distribución de probabilidad continua.\n",
    "1. Utilice un método predefinido en Python para generar una secuencia de valores pseudo-aleatorios provenientes de dicha distribución\n",
    "2. Genere una secuencia considerando el algoritmo de la transformada inversa.\n",
    "3. Grafique en histogramas y compare las secuencias en (1) y (2) utilizando el test de k-s"
   ]
  },
  {
   "cell_type": "code",
   "execution_count": 45,
   "metadata": {},
   "outputs": [
    {
     "name": "stdout",
     "output_type": "stream",
     "text": [
      "KstestResult(statistic=0.02896144172956594, pvalue=0.3642966734415609)\n",
      "KstestResult(statistic=0.021441196595027967, pvalue=0.7389670893715528)\n",
      "KstestResult(statistic=0.037, pvalue=0.5005673707894058)\n"
     ]
    },
    {
     "data": {
      "image/png": "[encoded data removed]",
      "text/plain": [
       "<Figure size 800x400 with 2 Axes>"
      ]
     },
     "metadata": {
      "needs_background": "light"
     },
     "output_type": "display_data"
    }
   ],
   "source": [
    "## simulación exponencial\n",
    "import scipy.stats as stats\n",
    "import math\n",
    "\n",
    "fig, axs = plt.subplots(1, 2,figsize=(10, 5), dpi=80)\n",
    "\n",
    "\n",
    "N=1000\n",
    "s = 2\n",
    "sec1 = stats.expon.rvs(scale=s,size =N)\n",
    "\n",
    "axs[0].hist(sec1)\n",
    "\n",
    "sec2 = []\n",
    "for i in range(N):\n",
    "    y = random.uniform(0,1)\n",
    "    sec2.append(-s*math.log(1-y))\n",
    "\n",
    "axs[1].hist(sec2)\n",
    "\n",
    "test1 = scipy.stats.kstest(sec1, 'expon', args=(0,s))\n",
    "test2 = scipy.stats.kstest(sec2, 'expon', args=(0,s))\n",
    "test3 = scipy.stats.kstest(sec1, sec2)\n",
    "print(test1)\n",
    "print(test2)\n",
    "print(test3)"
   ]
  },
  {
   "cell_type": "markdown",
   "metadata": {},
   "source": [
    "Ambas muestras provienen de la distribución exponencial de tasa 1/s, de acuerdo a los histogramas y el k-s test."
   ]
  },
  {
   "cell_type": "markdown",
   "metadata": {},
   "source": [
    "#### **Ejercicio 6:**\n",
    "Escoja una distribución de probabilidad discreta.\n",
    "1. Utilice un método predefinido en Python para generar una secuencia de valores pseudo-aleatorios provenientes de dicha distribución\n",
    "2. Genere una secuencia considerando el algoritmo de la transformada inversa.\n",
    "3. Grafique en histogramas y compare las secuencias en (1) y (2). ¿Qué test sería adecuado utilizar en este caso?"
   ]
  },
  {
   "cell_type": "code",
   "execution_count": 22,
   "metadata": {},
   "outputs": [
    {
     "data": {
      "text/plain": [
       "(array([6.101e+03, 0.000e+00, 3.023e+03, 0.000e+00, 7.400e+02, 0.000e+00,\n",
       "        1.250e+02, 0.000e+00, 9.000e+00, 2.000e+00]),\n",
       " array([0. , 0.5, 1. , 1.5, 2. , 2.5, 3. , 3.5, 4. , 4.5, 5. ]),\n",
       " <BarContainer object of 10 artists>)"
      ]
     },
     "execution_count": 22,
     "metadata": {},
     "output_type": "execute_result"
    },
    {
     "data": {
      "image/png": "[encoded data removed]",
      "text/plain": [
       "<Figure size 800x400 with 2 Axes>"
      ]
     },
     "metadata": {
      "needs_background": "light"
     },
     "output_type": "display_data"
    }
   ],
   "source": [
    "## simulación poisson\n",
    "import scipy.stats as stats\n",
    "import math\n",
    "\n",
    "fig, axs = plt.subplots(1, 2,figsize=(10, 5), dpi=80)\n",
    "\n",
    "\n",
    "N=10000\n",
    "m = 0.5\n",
    "sec1 = stats.poisson.rvs(mu=m,size =N)\n",
    "\n",
    "axs[0].hist(sec1)\n",
    "\n",
    "sec2 = []\n",
    "for i in range(N):\n",
    "    y = random.uniform(0,1)\n",
    "    k=0\n",
    "    sum = stats.poisson.cdf(k,mu=m)\n",
    "    while (sum < y):\n",
    "        k=k+1\n",
    "        sum =stats.poisson.cdf(k,mu=m)\n",
    "        \n",
    "    sec2.append(k)\n",
    "\n",
    "axs[1].hist(sec2)\n",
    "\n"
   ]
  },
  {
   "cell_type": "markdown",
   "metadata": {},
   "source": [
    "Ambas muestras provienen de la distribución exponencial de tasa m, de acuerdo a los histogramas. Se requiere utilizar un test del estilo chi-cuadrado para testear si las muestras provienen de la distribución discreta Poisson"
   ]
  },
  {
   "cell_type": "code",
   "execution_count": 33,
   "metadata": {},
   "outputs": [
    {
     "name": "stdout",
     "output_type": "stream",
     "text": [
      "[6047 3039  787  113   13    1] [6101 3023  740  125    9    2]\n"
     ]
    }
   ],
   "source": [
    "freq1 = np.unique(sec1,return_counts=True)\n",
    "freq2 = np.unique(sec2, return_counts=True)\n",
    "print(freq1[1],freq2[1])"
   ]
  },
  {
   "cell_type": "code",
   "execution_count": 34,
   "metadata": {},
   "outputs": [
    {
     "name": "stdout",
     "output_type": "stream",
     "text": [
      "Power_divergenceResult(statistic=6.977551435265962, pvalue=0.22231519737265626)\n"
     ]
    }
   ],
   "source": [
    "test1 = stats.chisquare(freq1[1],freq2[1])\n",
    "print(test1)"
   ]
  },
  {
   "cell_type": "markdown",
   "metadata": {},
   "source": [
    "No se rechaza la hipótesis que ambas muestras provengan de la misma distribución"
   ]
  },
  {
   "cell_type": "markdown",
   "metadata": {},
   "source": [
    "**Referencias:**\n",
    "    \n",
    "- Generating Random Data in Python (Guide): https://realpython.com/python-random/\n",
    "\n",
    "- Generación de números pseudo-aleatorios: https://www.youtube.com/watch?v=C82JyCmtKWg"
   ]
  },
  {
   "cell_type": "code",
   "execution_count": null,
   "metadata": {},
   "outputs": [],
   "source": []
  }
 ],
 "metadata": {
  "kernelspec": {
   "display_name": "Python 3",
   "language": "python",
   "name": "python3"
  },
  "language_info": {
   "codemirror_mode": {
    "name": "ipython",
    "version": 3
   },
   "file_extension": ".py",
   "mimetype": "text/x-python",
   "name": "python",
   "nbconvert_exporter": "python",
   "pygments_lexer": "ipython3",
   "version": "3.8.5"
  }
 },
 "nbformat": 4,
 "nbformat_minor": 2
}
